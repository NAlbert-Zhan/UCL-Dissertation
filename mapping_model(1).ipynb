{
 "cells": [
  {
   "cell_type": "code",
   "execution_count": 1,
   "metadata": {},
   "outputs": [],
   "source": [
    "#import package\n",
    "import pandas as pd\n",
    "import numpy as np\n",
    "import torch\n",
    "import torch.nn as nn\n",
    "import torch.optim as optim\n",
    "from torch.utils import data as ds\n",
    "from model import RNN,LSTM,GRU\n",
    "import torch.nn.functional as F\n",
    "import ast\n",
    "\n",
    "from scipy.stats import pearsonr, spearmanr\n",
    "from sklearn.model_selection import train_test_split\n",
    "\n",
    "import matplotlib.pyplot as plt\n",
    "import seaborn as sns"
   ]
  },
  {
   "cell_type": "code",
   "execution_count": 2,
   "metadata": {},
   "outputs": [],
   "source": [
    "# data = [\n",
    "#     [[0.1, 0.2, 0.3, 0.5], [0.1, 0.2, 0.3, 0.2], [0.1, 0.2, 0.3, 0.3], [0.1, 0.2, 0.3, 0.4], [0.1, 0.2, 0.3, 0.1]],   # report1 representation\n",
    "#     [[0.1, 0.2, 0.3, 0.5], [0.1, 0.2, 0.3, 0.3]],\n",
    "#     [[0.1, 0.2, 0.3, 0.5], [0.1, 0.2, 0.3, 0.3], [0.1, 0.2, 0.3, 0.4], [0.1, 0.2, 0.3, 0.2], [0.1, 0.2, 0.3, 0.5]],   # report2 representation\n",
    "#     [[0.1, 0.2, 0.3, 0.5], [0.1, 0.2, 0.3, 0.4], [0.1, 0.2, 0.3, 0.3], [0.1, 0.2, 0.3, 0.2], [0.1, 0.2, 0.3, 0.5]]    # report2 representation\n",
    "# ]\n",
    "\n",
    "# def trim_data(data, max_length=3):\n",
    "#     trimmed_data = []\n",
    "#     for sample in data:\n",
    "#         if len(sample) > max_length:\n",
    "#             # 找出最里面第四个维度的值\n",
    "#             fourth_values = [item[3] for item in sample]\n",
    "#             # 找出要保留的前max_length个最大值的索引\n",
    "#             indices_to_keep = sorted(range(len(fourth_values)), key=lambda i: fourth_values[i], reverse=False)[:max_length]\n",
    "#             # 按原顺序保留这些索引对应的元素\n",
    "#             trimmed_report = [sample[i] for i in sorted(indices_to_keep)]\n",
    "#             trimmed_data.append(trimmed_report)\n",
    "#         else:\n",
    "#             trimmed_data.append(sample)\n",
    "#     return trimmed_data\n",
    "\n",
    "# trimmed_data = trim_data(data)\n",
    "# print(trimmed_data)\n"
   ]
  },
  {
   "cell_type": "code",
   "execution_count": 3,
   "metadata": {},
   "outputs": [],
   "source": [
    "class MyDataset1(ds.Dataset):\n",
    "    def __init__(self, X, Y):\n",
    "        self.samples = X\n",
    "        self.labels = Y\n",
    "\n",
    "    def __getitem__(self, index):\n",
    "        sample = self.samples[index]\n",
    "        label = [self.labels[index]]\n",
    "        sample = torch.Tensor(sample).float()\n",
    "        label = torch.Tensor(label).float()\n",
    "        return sample, label\n",
    "\n",
    "    def __len__(self):\n",
    "        return len(self.samples)\n"
   ]
  },
  {
   "cell_type": "code",
   "execution_count": 4,
   "metadata": {},
   "outputs": [],
   "source": [
    "def collate_fn(batch):\n",
    "    samples, labels = zip(*batch)\n",
    "    # Pad the samples\n",
    "    samples_padded = torch.nn.utils.rnn.pad_sequence(samples, batch_first=True, padding_value=0.0)\n",
    "    labels = torch.stack(labels)\n",
    "    return samples_padded, labels\n"
   ]
  },
  {
   "cell_type": "code",
   "execution_count": 5,
   "metadata": {},
   "outputs": [
    {
     "data": {
      "text/plain": [
       "'#regression dataset\\nclass MyDataset1(ds.Dataset):\\n    def __init__(self, X, Y):\\n        self.samples = X\\n        self.labels = Y\\n\\n    def __getitem__(self, index):\\n        sample = self.samples[index]\\n        label = [self.labels[index]]\\n        #print(label)\\n        sample=torch.Tensor(sample).float()\\n        label= torch.Tensor(label).float()\\n\\n        return sample, label\\n\\n    def __len__(self):\\n        return len(self.samples)'"
      ]
     },
     "execution_count": 5,
     "metadata": {},
     "output_type": "execute_result"
    }
   ],
   "source": [
    "'''#regression dataset\n",
    "class MyDataset1(ds.Dataset):\n",
    "    def __init__(self, X, Y):\n",
    "        self.samples = X\n",
    "        self.labels = Y\n",
    "\n",
    "    def __getitem__(self, index):\n",
    "        sample = self.samples[index]\n",
    "        label = [self.labels[index]]\n",
    "        #print(label)\n",
    "        sample=torch.Tensor(sample).float()\n",
    "        label= torch.Tensor(label).float()\n",
    "\n",
    "        return sample, label\n",
    "\n",
    "    def __len__(self):\n",
    "        return len(self.samples)'''"
   ]
  },
  {
   "cell_type": "code",
   "execution_count": 6,
   "metadata": {},
   "outputs": [],
   "source": [
    "report_repre=pd.read_csv('C:/Users/lenovo/Desktop/UCL/Final dissertation/code/Midway Results/ESGOverallData.csv')\n",
    "report_repre.dropna(inplace=True)"
   ]
  },
  {
   "cell_type": "code",
   "execution_count": 7,
   "metadata": {},
   "outputs": [],
   "source": [
    "def generate_data(df):\n",
    "    x_train=[]\n",
    "    y_train=[]\n",
    "    for index,row in df.iterrows():\n",
    "        x_train.append(ast.literal_eval(row[\"ESGData\"]))\n",
    "        y_train.append(float(row[\"BloombergOverall\"]))\n",
    "    return x_train,y_train\n"
   ]
  },
  {
   "cell_type": "code",
   "execution_count": 8,
   "metadata": {},
   "outputs": [],
   "source": [
    "x,y=generate_data(report_repre)"
   ]
  },
  {
   "cell_type": "code",
   "execution_count": 9,
   "metadata": {},
   "outputs": [],
   "source": [
    "x_train, x_val, y_train, y_val = train_test_split(x, y, test_size=0.3, random_state=42)"
   ]
  },
  {
   "cell_type": "code",
   "execution_count": 10,
   "metadata": {},
   "outputs": [],
   "source": [
    "# x=x[0:5]"
   ]
  },
  {
   "cell_type": "code",
   "execution_count": 11,
   "metadata": {},
   "outputs": [
    {
     "data": {
      "text/plain": [
       "387"
      ]
     },
     "execution_count": 11,
     "metadata": {},
     "output_type": "execute_result"
    }
   ],
   "source": [
    "len(x_train)"
   ]
  },
  {
   "cell_type": "code",
   "execution_count": 12,
   "metadata": {},
   "outputs": [
    {
     "data": {
      "text/plain": [
       "'def pad_time_series(data, padding_value=0.0):\\n    final_result = []\\n    processed_data = []\\n\\n    # Step 1: Preprocess - Remove timesteps where the fourth value is greater than 0.5\\n    for sample in data:\\n        processed_sample = [timestep for timestep in sample if timestep[3] <= 0.5]\\n        processed_data.append(processed_sample)\\n\\n    # Step 2: Calculate the average target length\\n    target_length = int(np.mean([len(sample) for sample in processed_data]))\\n\\n    # Step 3: Pad or Trim the sequences\\n    for sample in processed_data:\\n        if len(sample) < target_length:\\n            # Pad the sample\\n            for _ in range(target_length - len(sample)):\\n                sample.append([padding_value for _ in range(4)])\\n            final_result.append(sample)\\n        \\n        elif len(sample) > target_length:\\n            # Trim the sample by removing highest fourth values\\n            fourth_values = [item[3] for item in sample]\\n            indices_to_keep = sorted(range(len(fourth_values)), key=lambda i: fourth_values[i], reverse=False)[:target_length]\\n            trimmed_sample = [sample[i] for i in sorted(indices_to_keep)]\\n            final_result.append(trimmed_sample)\\n        \\n        else:\\n            # If already the correct length\\n            final_result.append(sample)\\n\\n    return final_result\\n\\nx = pad_time_series(x, padding_value=0.25)\\nlen(x[0])'"
      ]
     },
     "execution_count": 12,
     "metadata": {},
     "output_type": "execute_result"
    }
   ],
   "source": [
    "'''def pad_time_series(data, padding_value=0.0):\n",
    "    final_result = []\n",
    "    processed_data = []\n",
    "\n",
    "    # Step 1: Preprocess - Remove timesteps where the fourth value is greater than 0.5\n",
    "    for sample in data:\n",
    "        processed_sample = [timestep for timestep in sample if timestep[3] <= 0.5]\n",
    "        processed_data.append(processed_sample)\n",
    "\n",
    "    # Step 2: Calculate the average target length\n",
    "    target_length = int(np.mean([len(sample) for sample in processed_data]))\n",
    "\n",
    "    # Step 3: Pad or Trim the sequences\n",
    "    for sample in processed_data:\n",
    "        if len(sample) < target_length:\n",
    "            # Pad the sample\n",
    "            for _ in range(target_length - len(sample)):\n",
    "                sample.append([padding_value for _ in range(4)])\n",
    "            final_result.append(sample)\n",
    "        \n",
    "        elif len(sample) > target_length:\n",
    "            # Trim the sample by removing highest fourth values\n",
    "            fourth_values = [item[3] for item in sample]\n",
    "            indices_to_keep = sorted(range(len(fourth_values)), key=lambda i: fourth_values[i], reverse=False)[:target_length]\n",
    "            trimmed_sample = [sample[i] for i in sorted(indices_to_keep)]\n",
    "            final_result.append(trimmed_sample)\n",
    "        \n",
    "        else:\n",
    "            # If already the correct length\n",
    "            final_result.append(sample)\n",
    "\n",
    "    return final_result\n",
    "\n",
    "x = pad_time_series(x, padding_value=0.25)\n",
    "len(x[0])'''"
   ]
  },
  {
   "cell_type": "code",
   "execution_count": 13,
   "metadata": {},
   "outputs": [
    {
     "data": {
      "text/plain": [
       "200"
      ]
     },
     "execution_count": 13,
     "metadata": {},
     "output_type": "execute_result"
    }
   ],
   "source": [
    "def pad_time_series(data, target_length=None, padding_value=0.0):\n",
    "    # Determine the target length if not provided\n",
    "    final_result=[]\n",
    "    if target_length is None:\n",
    "        target_length = max(len(sample) for sample in data)\n",
    "\n",
    "    for sample in data:\n",
    "        if len(sample) < target_length:\n",
    "            for _ in range(target_length - len(sample)):\n",
    "                sample.append([padding_value for _ in range(4)])\n",
    "            final_result.append(sample)\n",
    "        \n",
    "        elif len(sample) > target_length:\n",
    "            fourth_values = [item[3] for item in sample]\n",
    "            indices_to_keep = sorted(range(len(fourth_values)), key=lambda i: fourth_values[i], reverse=False)[:target_length]\n",
    "            trimmed_report = [sample[i] for i in sorted(indices_to_keep)]\n",
    "            final_result.append(trimmed_report)\n",
    "        \n",
    "        else:\n",
    "            final_result.append(sample)\n",
    "\n",
    "    return final_result\n",
    "            \n",
    "\n",
    "    return data\n",
    "\n",
    "\n",
    "x = pad_time_series(x, 200, padding_value=0.25)\n",
    "len(x[0])"
   ]
  },
  {
   "cell_type": "code",
   "execution_count": 14,
   "metadata": {},
   "outputs": [
    {
     "data": {
      "text/plain": [
       "'\\ndef mean_absolute_error(y_true, y_pred):\\n    return torch.mean(torch.abs(y_true - y_pred))\\ndef r_squared(y_true, y_pred):\\n    ss_res = torch.sum((y_true - y_pred) ** 2)\\n    ss_tot = torch.sum((y_true - torch.mean(y_true)) ** 2)\\n    print(y_true)\\n    if ss_tot == 0:\\n        return torch.tensor(0.0)  # or another appropriate value\\n    \\n    return 1 - (ss_res / ss_tot)\\n\\ndef mean_absolute_percentage_error(y_true, y_pred):\\n    return torch.mean(torch.abs((y_true - y_pred) / y_true)) * 100\\ndef mean_squared_error(y_true, y_pred):\\n    return torch.mean((y_true - y_pred) ** 2)\\n'"
      ]
     },
     "execution_count": 14,
     "metadata": {},
     "output_type": "execute_result"
    }
   ],
   "source": [
    "'''\n",
    "def mean_absolute_error(y_true, y_pred):\n",
    "    return torch.mean(torch.abs(y_true - y_pred))\n",
    "def r_squared(y_true, y_pred):\n",
    "    ss_res = torch.sum((y_true - y_pred) ** 2)\n",
    "    ss_tot = torch.sum((y_true - torch.mean(y_true)) ** 2)\n",
    "    print(y_true)\n",
    "    if ss_tot == 0:\n",
    "        return torch.tensor(0.0)  # or another appropriate value\n",
    "    \n",
    "    return 1 - (ss_res / ss_tot)\n",
    "\n",
    "def mean_absolute_percentage_error(y_true, y_pred):\n",
    "    return torch.mean(torch.abs((y_true - y_pred) / y_true)) * 100\n",
    "def mean_squared_error(y_true, y_pred):\n",
    "    return torch.mean((y_true - y_pred) ** 2)\n",
    "'''"
   ]
  },
  {
   "cell_type": "code",
   "execution_count": 15,
   "metadata": {},
   "outputs": [],
   "source": [
    "# def mean_absolute_error(y_true, y_pred):\n",
    "#     return torch.mean(torch.abs(y_true - y_pred))\n",
    "\n",
    "# def r_squared(y_true, y_pred, y_mean):\n",
    "#     ss_res = torch.sum((y_true - y_pred) ** 2)\n",
    "#     ss_tot = torch.sum((y_true - y_mean) ** 2)\n",
    "#     print(y_mean)\n",
    "#     if ss_tot == 0:\n",
    "#         return torch.tensor(0.0)  # or another appropriate value\n",
    "    \n",
    "#     return 1 - (ss_res / ss_tot)\n",
    "\n",
    "# def mean_absolute_percentage_error(y_true, y_pred):\n",
    "#     return torch.mean(torch.abs((y_true - y_pred) / y_true)) * 100\n",
    "\n",
    "# def mean_squared_error(y_true, y_pred):\n",
    "#     return torch.mean((y_true - y_pred) ** 2)"
   ]
  },
  {
   "cell_type": "code",
   "execution_count": 16,
   "metadata": {},
   "outputs": [
    {
     "data": {
      "text/plain": [
       "'#training loop\\ndef loop(model,train_loader,test_loader,optimizer,criterion,device,E=20):\\n    loss_all=[]\\n    for epoch in range(E): \\n        loss_epoch=[]\\n        print(epoch)\\n        for samples, labels in train_loader:\\n            samples=samples.to(device)\\n            labels=labels.to(device)\\n            #print(samples.shape)\\n            #print(labels.shape)\\n        # Set the flag to training mode\\n            model.train()\\n            \\n            optimizer.zero_grad()\\n            outputs = model(samples)\\n            loss = criterion(outputs.squeeze(), labels)\\n            loss.backward()\\n            optimizer.step()\\n            loss_epoch.append(float(loss.cpu()))\\n            #print(outputs)\\n        print(sum(loss_epoch)/len(loss_epoch))#训练集的平均loss\\n        loss_all.append(sum(loss_epoch)/len(loss_epoch))\\n\\n    model.eval()\\n    result=[]\\n    for samples, true in test_loader:\\n        samples=samples.to(device)\\n        outputs = model(samples)\\n        result.append(float(outputs.cpu()))\\n        \\n    return result,loss_epoch,model'"
      ]
     },
     "execution_count": 16,
     "metadata": {},
     "output_type": "execute_result"
    }
   ],
   "source": [
    "'''#training loop\n",
    "def loop(model,train_loader,test_loader,optimizer,criterion,device,E=20):\n",
    "    loss_all=[]\n",
    "    for epoch in range(E): \n",
    "        loss_epoch=[]\n",
    "        print(epoch)\n",
    "        for samples, labels in train_loader:\n",
    "            samples=samples.to(device)\n",
    "            labels=labels.to(device)\n",
    "            #print(samples.shape)\n",
    "            #print(labels.shape)\n",
    "        # Set the flag to training mode\n",
    "            model.train()\n",
    "            \n",
    "            optimizer.zero_grad()\n",
    "            outputs = model(samples)\n",
    "            loss = criterion(outputs.squeeze(), labels)\n",
    "            loss.backward()\n",
    "            optimizer.step()\n",
    "            loss_epoch.append(float(loss.cpu()))\n",
    "            #print(outputs)\n",
    "        print(sum(loss_epoch)/len(loss_epoch))#训练集的平均loss\n",
    "        loss_all.append(sum(loss_epoch)/len(loss_epoch))\n",
    "\n",
    "    model.eval()\n",
    "    result=[]\n",
    "    for samples, true in test_loader:\n",
    "        samples=samples.to(device)\n",
    "        outputs = model(samples)\n",
    "        result.append(float(outputs.cpu()))\n",
    "        \n",
    "    return result,loss_epoch,model'''"
   ]
  },
  {
   "cell_type": "code",
   "execution_count": 17,
   "metadata": {},
   "outputs": [],
   "source": [
    "def information_coefficient(y_true, y_pred):\n",
    "    # Convert tensors to numpy arrays for scipy functions\n",
    "    y_true_np = y_true.cpu().numpy()\n",
    "    y_pred_np = y_pred.cpu().numpy()\n",
    "    # Calculate Pearson correlation coefficient\n",
    "    ic, _ = pearsonr(y_true_np, y_pred_np)\n",
    "    return ic\n",
    "\n",
    "def rank_information_coefficient(y_true, y_pred):\n",
    "    # Convert tensors to numpy arrays for scipy functions\n",
    "    y_true_np = y_true.cpu().numpy()\n",
    "    y_pred_np = y_pred.cpu().numpy()\n",
    "    # Calculate Spearman rank correlation coefficient\n",
    "    rank_ic, _ = spearmanr(y_true_np, y_pred_np)\n",
    "    return rank_ic\n",
    "\n",
    "def mean_absolute_error(y_true, y_pred):\n",
    "    return torch.mean(torch.abs(y_true - y_pred))\n",
    "\n",
    "def r_squared(y_true, y_pred, y_mean):\n",
    "    ss_res = torch.sum((y_true - y_pred) ** 2)\n",
    "    ss_tot = torch.sum((y_true - y_mean) ** 2)\n",
    "    if ss_tot == 0:\n",
    "        return torch.tensor(0.0)\n",
    "    \n",
    "    return 1 - (ss_res / ss_tot)\n",
    "\n",
    "def mean_absolute_percentage_error(y_true, y_pred):\n",
    "    return torch.mean(torch.abs((y_true - y_pred) / y_true)) * 100\n",
    "\n",
    "def mean_squared_error(y_true, y_pred):\n",
    "    return torch.mean((y_true - y_pred) ** 2)\n",
    "\n"
   ]
  },
  {
   "cell_type": "code",
   "execution_count": 18,
   "metadata": {},
   "outputs": [],
   "source": [
    "def loop(model, train_loader, val_loader, optimizer, criterion, device, E=20):\n",
    "    loss_all = []\n",
    "    val_metrics = []\n",
    "\n",
    "    for epoch in range(E): \n",
    "        loss_epoch = []\n",
    "        model.train()\n",
    "        \n",
    "        for samples, labels in train_loader:\n",
    "            samples = samples.to(device)\n",
    "            labels = labels.to(device)\n",
    "\n",
    "            optimizer.zero_grad()\n",
    "            outputs = model(samples)\n",
    "            loss = criterion(outputs.squeeze(), labels)\n",
    "            loss.backward()\n",
    "            optimizer.step()\n",
    "            loss_epoch.append(float(loss.cpu()))\n",
    "\n",
    "        avg_train_loss = sum(loss_epoch) / len(loss_epoch)\n",
    "        print(f\"Epoch {epoch + 1}/{E}, Training Loss: {avg_train_loss}\")\n",
    "        loss_all.append(avg_train_loss)\n",
    "\n",
    "        # Validation\n",
    "        model.eval()\n",
    "        val_losses, mae, mape, r2_scores, ic_values, rank_ic_values = [], [], [], [], [], []\n",
    "        total_labels = torch.tensor([]).to(device)\n",
    "        total_outputs = torch.tensor([]).to(device)\n",
    "\n",
    "        with torch.no_grad():\n",
    "            for samples, labels in val_loader:\n",
    "                samples = samples.to(device)\n",
    "                labels = labels.to(device)\n",
    "                outputs = model(samples)\n",
    "\n",
    "                # Convert to 1D tensor before concatenation\n",
    "                total_labels = torch.cat((total_labels, labels.view(-1)))\n",
    "                total_outputs = torch.cat((total_outputs, outputs.squeeze().view(-1)))\n",
    "\n",
    "                # Calculate the current y_mean\n",
    "                y_mean = torch.mean(total_labels)\n",
    "\n",
    "                val_loss = criterion(outputs.squeeze(), labels)\n",
    "                val_losses.append(float(val_loss.cpu()))\n",
    "                \n",
    "                mae.append(mean_absolute_error(labels, outputs).cpu())\n",
    "                mape.append(mean_absolute_percentage_error(labels, outputs).cpu())\n",
    "                r2_scores.append(r_squared(labels, outputs, y_mean).cpu())\n",
    "\n",
    "            # Calculate IC and Rank IC using the full set of labels and predictions for the epoch\n",
    "            ic = information_coefficient(total_labels, total_outputs)\n",
    "            rank_ic = rank_information_coefficient(total_labels, total_outputs)\n",
    "            ic_values.append(ic)\n",
    "            rank_ic_values.append(rank_ic)\n",
    "\n",
    "        avg_val_loss = sum(val_losses) / len(val_losses)\n",
    "        avg_mae = sum(mae) / len(mae)\n",
    "        avg_mape = sum(mape) / len(mape)\n",
    "        avg_r2 = sum(r2_scores) / len(r2_scores)\n",
    "        avg_ic = sum(ic_values) / len(ic_values)\n",
    "        avg_rank_ic = sum(rank_ic_values) / len(rank_ic_values)\n",
    "        \n",
    "        val_metrics.append((avg_val_loss, avg_mae, avg_mape, avg_r2, avg_ic, avg_rank_ic))\n",
    "        # print(f\"Validation - Loss: {avg_val_loss}, MAE: {avg_mae}, MAPE: {avg_mape}, R^2: {avg_r2}, IC: {avg_ic}, Rank IC: {avg_rank_ic}\")\n",
    "\n",
    "    return loss_all, val_metrics, model\n"
   ]
  },
  {
   "cell_type": "code",
   "execution_count": 19,
   "metadata": {},
   "outputs": [
    {
     "data": {
      "text/plain": [
       "'def loop(model, train_loader, val_loader, optimizer, criterion, device, E=20):\\n    loss_all = []\\n    val_metrics = []\\n\\n    for epoch in range(E): \\n        loss_epoch = []\\n        model.train()\\n        \\n        for samples, labels in train_loader:\\n            samples = samples.to(device)\\n            labels = labels.to(device)\\n\\n            optimizer.zero_grad()\\n            outputs = model(samples)\\n            loss = criterion(outputs.squeeze(), labels)\\n            loss.backward()\\n            optimizer.step()\\n            loss_epoch.append(float(loss.cpu()))\\n\\n        avg_train_loss = sum(loss_epoch) / len(loss_epoch)\\n        print(f\"Epoch {epoch + 1}/{E}, Training Loss: {avg_train_loss}\")\\n        loss_all.append(avg_train_loss)\\n\\n        # Validation\\n        model.eval()\\n        val_losses, mae, mape, r2_scores = [], [], [], []\\n\\n        with torch.no_grad():\\n            for samples, labels in val_loader:\\n                samples = samples.to(device)\\n                labels = labels.to(device)\\n                outputs = model(samples)\\n                \\n                val_loss = criterion(outputs.squeeze(), labels)\\n                val_losses.append(float(val_loss.cpu()))\\n                \\n                mae.append(mean_absolute_error(labels, outputs).cpu())\\n                mape.append(mean_absolute_percentage_error(labels, outputs).cpu())\\n                r2_scores.append(r_squared(labels, outputs).cpu())\\n\\n        avg_val_loss = sum(val_losses) / len(val_losses)\\n        avg_mae = sum(mae) / len(mae)\\n        avg_mape = sum(mape) / len(mape)\\n        avg_r2 = sum(r2_scores) / len(r2_scores)\\n        \\n        val_metrics.append((avg_val_loss, avg_mae, avg_mape, avg_r2))\\n        print(f\"Validation - Loss: {avg_val_loss}, MAE: {avg_mae}, MAPE: {avg_mape}, R^2: {avg_r2}\")\\n\\n    return loss_all, val_metrics, model'"
      ]
     },
     "execution_count": 19,
     "metadata": {},
     "output_type": "execute_result"
    }
   ],
   "source": [
    "'''def loop(model, train_loader, val_loader, optimizer, criterion, device, E=20):\n",
    "    loss_all = []\n",
    "    val_metrics = []\n",
    "\n",
    "    for epoch in range(E): \n",
    "        loss_epoch = []\n",
    "        model.train()\n",
    "        \n",
    "        for samples, labels in train_loader:\n",
    "            samples = samples.to(device)\n",
    "            labels = labels.to(device)\n",
    "\n",
    "            optimizer.zero_grad()\n",
    "            outputs = model(samples)\n",
    "            loss = criterion(outputs.squeeze(), labels)\n",
    "            loss.backward()\n",
    "            optimizer.step()\n",
    "            loss_epoch.append(float(loss.cpu()))\n",
    "\n",
    "        avg_train_loss = sum(loss_epoch) / len(loss_epoch)\n",
    "        print(f\"Epoch {epoch + 1}/{E}, Training Loss: {avg_train_loss}\")\n",
    "        loss_all.append(avg_train_loss)\n",
    "\n",
    "        # Validation\n",
    "        model.eval()\n",
    "        val_losses, mae, mape, r2_scores = [], [], [], []\n",
    "\n",
    "        with torch.no_grad():\n",
    "            for samples, labels in val_loader:\n",
    "                samples = samples.to(device)\n",
    "                labels = labels.to(device)\n",
    "                outputs = model(samples)\n",
    "                \n",
    "                val_loss = criterion(outputs.squeeze(), labels)\n",
    "                val_losses.append(float(val_loss.cpu()))\n",
    "                \n",
    "                mae.append(mean_absolute_error(labels, outputs).cpu())\n",
    "                mape.append(mean_absolute_percentage_error(labels, outputs).cpu())\n",
    "                r2_scores.append(r_squared(labels, outputs).cpu())\n",
    "\n",
    "        avg_val_loss = sum(val_losses) / len(val_losses)\n",
    "        avg_mae = sum(mae) / len(mae)\n",
    "        avg_mape = sum(mape) / len(mape)\n",
    "        avg_r2 = sum(r2_scores) / len(r2_scores)\n",
    "        \n",
    "        val_metrics.append((avg_val_loss, avg_mae, avg_mape, avg_r2))\n",
    "        print(f\"Validation - Loss: {avg_val_loss}, MAE: {avg_mae}, MAPE: {avg_mape}, R^2: {avg_r2}\")\n",
    "\n",
    "    return loss_all, val_metrics, model'''\n"
   ]
  },
  {
   "cell_type": "code",
   "execution_count": 20,
   "metadata": {},
   "outputs": [
    {
     "data": {
      "text/plain": [
       "'x=[[[0.3,0.4,0.1,0.2],[0.3,0.4,0.1,0.2],[0.3,0.4,0.1,0.2],[0.3,0.4,0.1,0.2]],\\n    [[0.3,0.4,0.1,0.2],[0.3,0.4,0.1,0.2],[0.3,0.4,0.1,0.2],[0.3,0.4,0.1,0.2]],\\n    [[0.3,0.4,0.1,0.2],[0.3,0.4,0.1,0.2],[0.3,0.4,0.1,0.2],[0.3,0.4,0.1,0.2]],\\n    [[0.3,0.4,0.1,0.2],[0.3,0.4,0.1,0.2],[0.3,0.4,0.1,0.2],[0.3,0.4,0.1,0.2]],\\n    [[0.3,0.4,0.1,0.2],[0.3,0.4,0.1,0.2],[0.3,0.4,0.1,0.2],[0.3,0.4,0.1,0.2]],\\n    [[0.3,0.4,0.1,0.2],[0.3,0.4,0.1,0.2],[0.3,0.4,0.1,0.2],[0.3,0.4,0.1,0.2]],\\n    [[0.3,0.4,0.1,0.2],[0.3,0.4,0.1,0.2],[0.3,0.4,0.1,0.2],[0.3,0.4,0.1,0.2]],\\n    [[0.3,0.4,0.1,0.2],[0.3,0.4,0.1,0.2],[0.3,0.4,0.1,0.2],[0.3,0.4,0.1,0.2]],\\n    [[0.3,0.4,0.1,0.2],[0.3,0.4,0.1,0.2],[0.3,0.4,0.1,0.2],[0.3,0.4,0.1,0.2]],\\n    [[0.3,0.4,0.1,0.2],[0.3,0.4,0.1,0.2],[0.3,0.4,0.1,0.2],[0.3,0.4,0.1,0.2]],\\n    [[0.3,0.4,0.1,0.2],[0.3,0.4,0.1,0.2],[0.3,0.4,0.1,0.2],[0.3,0.4,0.1,0.2]],\\n    [[0.3,0.4,0.1,0.2],[0.3,0.4,0.1,0.2],[0.3,0.4,0.1,0.2],[0.3,0.4,0.1,0.2]],\\n    [[0.3,0.4,0.1,0.2],[0.3,0.4,0.1,0.2],[0.3,0.4,0.1,0.2],[0.3,0.4,0.1,0.2]],\\n    [[0.3,0.4,0.1,0.2],[0.3,0.4,0.1,0.2],[0.3,0.4,0.1,0.2],[0.3,0.4,0.1,0.2]],\\n    [[0.3,0.4,0.1,0.2],[0.3,0.4,0.1,0.2],[0.3,0.4,0.1,0.2],[0.3,0.4,0.1,0.2]],\\n    [[0.3,0.4,0.1,0.2],[0.3,0.4,0.1,0.2],[0.3,0.4,0.1,0.2],[0.3,0.4,0.1,0.2]]]\\ny=[1,2,3,4,5,6,7,8,9,0,1,2,3,4,5,6]'"
      ]
     },
     "execution_count": 20,
     "metadata": {},
     "output_type": "execute_result"
    }
   ],
   "source": [
    "'''x=[[[0.3,0.4,0.1,0.2],[0.3,0.4,0.1,0.2],[0.3,0.4,0.1,0.2],[0.3,0.4,0.1,0.2]],\n",
    "    [[0.3,0.4,0.1,0.2],[0.3,0.4,0.1,0.2],[0.3,0.4,0.1,0.2],[0.3,0.4,0.1,0.2]],\n",
    "    [[0.3,0.4,0.1,0.2],[0.3,0.4,0.1,0.2],[0.3,0.4,0.1,0.2],[0.3,0.4,0.1,0.2]],\n",
    "    [[0.3,0.4,0.1,0.2],[0.3,0.4,0.1,0.2],[0.3,0.4,0.1,0.2],[0.3,0.4,0.1,0.2]],\n",
    "    [[0.3,0.4,0.1,0.2],[0.3,0.4,0.1,0.2],[0.3,0.4,0.1,0.2],[0.3,0.4,0.1,0.2]],\n",
    "    [[0.3,0.4,0.1,0.2],[0.3,0.4,0.1,0.2],[0.3,0.4,0.1,0.2],[0.3,0.4,0.1,0.2]],\n",
    "    [[0.3,0.4,0.1,0.2],[0.3,0.4,0.1,0.2],[0.3,0.4,0.1,0.2],[0.3,0.4,0.1,0.2]],\n",
    "    [[0.3,0.4,0.1,0.2],[0.3,0.4,0.1,0.2],[0.3,0.4,0.1,0.2],[0.3,0.4,0.1,0.2]],\n",
    "    [[0.3,0.4,0.1,0.2],[0.3,0.4,0.1,0.2],[0.3,0.4,0.1,0.2],[0.3,0.4,0.1,0.2]],\n",
    "    [[0.3,0.4,0.1,0.2],[0.3,0.4,0.1,0.2],[0.3,0.4,0.1,0.2],[0.3,0.4,0.1,0.2]],\n",
    "    [[0.3,0.4,0.1,0.2],[0.3,0.4,0.1,0.2],[0.3,0.4,0.1,0.2],[0.3,0.4,0.1,0.2]],\n",
    "    [[0.3,0.4,0.1,0.2],[0.3,0.4,0.1,0.2],[0.3,0.4,0.1,0.2],[0.3,0.4,0.1,0.2]],\n",
    "    [[0.3,0.4,0.1,0.2],[0.3,0.4,0.1,0.2],[0.3,0.4,0.1,0.2],[0.3,0.4,0.1,0.2]],\n",
    "    [[0.3,0.4,0.1,0.2],[0.3,0.4,0.1,0.2],[0.3,0.4,0.1,0.2],[0.3,0.4,0.1,0.2]],\n",
    "    [[0.3,0.4,0.1,0.2],[0.3,0.4,0.1,0.2],[0.3,0.4,0.1,0.2],[0.3,0.4,0.1,0.2]],\n",
    "    [[0.3,0.4,0.1,0.2],[0.3,0.4,0.1,0.2],[0.3,0.4,0.1,0.2],[0.3,0.4,0.1,0.2]]]\n",
    "y=[1,2,3,4,5,6,7,8,9,0,1,2,3,4,5,6]'''"
   ]
  },
  {
   "cell_type": "code",
   "execution_count": 21,
   "metadata": {},
   "outputs": [
    {
     "data": {
      "text/plain": [
       "(553, 553)"
      ]
     },
     "execution_count": 21,
     "metadata": {},
     "output_type": "execute_result"
    }
   ],
   "source": [
    "len(x),len(y)"
   ]
  },
  {
   "cell_type": "code",
   "execution_count": 22,
   "metadata": {},
   "outputs": [],
   "source": [
    "#parameters\n",
    "batch_size=10\n",
    "learning_rate=0.00001\n",
    "epoch=100\n",
    "hidden_num=100\n",
    "output_dim=1 #if None put ''\n",
    "device = torch.device(\"cuda\" if torch.cuda.is_available() else \"cpu\")"
   ]
  },
  {
   "cell_type": "code",
   "execution_count": 23,
   "metadata": {},
   "outputs": [],
   "source": [
    "# Create training and validation datasets\n",
    "train_dataset = MyDataset1(x_train, y_train)\n",
    "val_dataset = MyDataset1(x_val, y_val)\n",
    "\n",
    "# Create DataLoaders\n",
    "train_loader = ds.DataLoader(dataset=train_dataset, batch_size=batch_size, shuffle=True, collate_fn=collate_fn)\n",
    "val_loader = ds.DataLoader(dataset=val_dataset, batch_size=1, shuffle=True, collate_fn=collate_fn)\n",
    "\n",
    "criterion = nn.MSELoss()"
   ]
  },
  {
   "cell_type": "code",
   "execution_count": 24,
   "metadata": {},
   "outputs": [],
   "source": [
    "# train_dataset = MyDataset1(x,y)\n",
    "# train_loader=ds.DataLoader(dataset=train_dataset, batch_size=batch_size, shuffle=True)\n",
    "# test_loader=ds.DataLoader(dataset=train_dataset, batch_size=1, shuffle=True)\n",
    "# criterion = nn.MSELoss()"
   ]
  },
  {
   "cell_type": "code",
   "execution_count": 25,
   "metadata": {},
   "outputs": [
    {
     "name": "stderr",
     "output_type": "stream",
     "text": [
      "c:\\Users\\lenovo\\miniconda3\\Lib\\site-packages\\tqdm\\auto.py:21: TqdmWarning: IProgress not found. Please update jupyter and ipywidgets. See https://ipywidgets.readthedocs.io/en/stable/user_install.html\n",
      "  from .autonotebook import tqdm as notebook_tqdm\n",
      "c:\\Users\\lenovo\\miniconda3\\Lib\\site-packages\\torch\\nn\\modules\\loss.py:535: UserWarning: Using a target size (torch.Size([10, 1])) that is different to the input size (torch.Size([10])). This will likely lead to incorrect results due to broadcasting. Please ensure they have the same size.\n",
      "  return F.mse_loss(input, target, reduction=self.reduction)\n",
      "c:\\Users\\lenovo\\miniconda3\\Lib\\site-packages\\torch\\nn\\modules\\loss.py:535: UserWarning: Using a target size (torch.Size([7, 1])) that is different to the input size (torch.Size([7])). This will likely lead to incorrect results due to broadcasting. Please ensure they have the same size.\n",
      "  return F.mse_loss(input, target, reduction=self.reduction)\n",
      "c:\\Users\\lenovo\\miniconda3\\Lib\\site-packages\\torch\\nn\\modules\\loss.py:535: UserWarning: Using a target size (torch.Size([1, 1])) that is different to the input size (torch.Size([])). This will likely lead to incorrect results due to broadcasting. Please ensure they have the same size.\n",
      "  return F.mse_loss(input, target, reduction=self.reduction)\n"
     ]
    },
    {
     "name": "stdout",
     "output_type": "stream",
     "text": [
      "Epoch 1/100, Training Loss: 12.316653814071264\n",
      "Epoch 2/100, Training Loss: 12.136841566134722\n",
      "Epoch 3/100, Training Loss: 11.922344537881704\n",
      "Epoch 4/100, Training Loss: 11.806313392443535\n",
      "Epoch 5/100, Training Loss: 11.604561194395407\n",
      "Epoch 6/100, Training Loss: 11.26954495601165\n",
      "Epoch 7/100, Training Loss: 11.0211836374723\n",
      "Epoch 8/100, Training Loss: 10.788370046860132\n",
      "Epoch 9/100, Training Loss: 10.286889919867882\n",
      "Epoch 10/100, Training Loss: 9.770567050346962\n",
      "Epoch 11/100, Training Loss: 9.062160638662485\n",
      "Epoch 12/100, Training Loss: 8.008615946158384\n",
      "Epoch 13/100, Training Loss: 6.6710929198142805\n",
      "Epoch 14/100, Training Loss: 5.399077513279059\n",
      "Epoch 15/100, Training Loss: 4.4147470608735695\n",
      "Epoch 16/100, Training Loss: 3.67147810336871\n",
      "Epoch 17/100, Training Loss: 3.1321341823308897\n",
      "Epoch 18/100, Training Loss: 2.7805044742730947\n",
      "Epoch 19/100, Training Loss: 2.502505377317086\n",
      "Epoch 20/100, Training Loss: 2.3072904294882064\n",
      "Epoch 21/100, Training Loss: 2.1510353103662148\n",
      "Epoch 22/100, Training Loss: 2.0386737096003995\n",
      "Epoch 23/100, Training Loss: 1.974708378314972\n",
      "Epoch 24/100, Training Loss: 1.9125956954100194\n",
      "Epoch 25/100, Training Loss: 1.8575358635339982\n",
      "Epoch 26/100, Training Loss: 1.8292347888151805\n",
      "Epoch 27/100, Training Loss: 1.8015013971389868\n",
      "Epoch 28/100, Training Loss: 1.7868996079151447\n",
      "Epoch 29/100, Training Loss: 1.7764398830059247\n",
      "Epoch 30/100, Training Loss: 1.770286615078266\n",
      "Epoch 31/100, Training Loss: 1.746522333759528\n",
      "Epoch 32/100, Training Loss: 1.7457765004573724\n",
      "Epoch 33/100, Training Loss: 1.740393878557743\n",
      "Epoch 34/100, Training Loss: 1.7374112499065888\n",
      "Epoch 35/100, Training Loss: 1.7404882220121531\n",
      "Epoch 36/100, Training Loss: 1.7355321500545893\n",
      "Epoch 37/100, Training Loss: 1.7363039644864888\n",
      "Epoch 38/100, Training Loss: 1.7503427251791344\n",
      "Epoch 39/100, Training Loss: 1.749493806790083\n",
      "Epoch 40/100, Training Loss: 1.7341910814627624\n",
      "Epoch 41/100, Training Loss: 1.7427521775930355\n",
      "Epoch 42/100, Training Loss: 1.7473666744354444\n",
      "Epoch 43/100, Training Loss: 1.7426521273759694\n",
      "Epoch 44/100, Training Loss: 1.7329929012518663\n",
      "Epoch 45/100, Training Loss: 1.7321577408374884\n",
      "Epoch 46/100, Training Loss: 1.747545049740718\n",
      "Epoch 47/100, Training Loss: 1.7439317672680585\n",
      "Epoch 48/100, Training Loss: 1.7372107605139415\n",
      "Epoch 49/100, Training Loss: 1.7303269795882397\n",
      "Epoch 50/100, Training Loss: 1.7352402676374485\n",
      "Epoch 51/100, Training Loss: 1.7367397470351977\n",
      "Epoch 52/100, Training Loss: 1.7307814802878942\n",
      "Epoch 53/100, Training Loss: 1.7390989508384314\n",
      "Epoch 54/100, Training Loss: 1.7320848749234126\n",
      "Epoch 55/100, Training Loss: 1.739698854776529\n",
      "Epoch 56/100, Training Loss: 1.7359098975475018\n",
      "Epoch 57/100, Training Loss: 1.7352625697087019\n",
      "Epoch 58/100, Training Loss: 1.739343435336382\n",
      "Epoch 59/100, Training Loss: 1.7452513071206899\n",
      "Epoch 60/100, Training Loss: 1.7326249617796678\n",
      "Epoch 61/100, Training Loss: 1.7298888395994136\n",
      "Epoch 62/100, Training Loss: 1.741207439165849\n",
      "Epoch 63/100, Training Loss: 1.7398537932298122\n",
      "Epoch 64/100, Training Loss: 1.7374275540694213\n",
      "Epoch 65/100, Training Loss: 1.7388040285844069\n",
      "Epoch 66/100, Training Loss: 1.7391407642609034\n",
      "Epoch 67/100, Training Loss: 1.7309428193630316\n",
      "Epoch 68/100, Training Loss: 1.7302896120609381\n",
      "Epoch 69/100, Training Loss: 1.7358653239714794\n",
      "Epoch 70/100, Training Loss: 1.730953289148135\n",
      "Epoch 71/100, Training Loss: 1.7324492090787642\n",
      "Epoch 72/100, Training Loss: 1.7355316946139703\n",
      "Epoch 73/100, Training Loss: 1.7355260818432539\n",
      "Epoch 74/100, Training Loss: 1.733393445993081\n",
      "Epoch 75/100, Training Loss: 1.7313518157372108\n",
      "Epoch 76/100, Training Loss: 1.730258250847841\n",
      "Epoch 77/100, Training Loss: 1.7402756153008876\n",
      "Epoch 78/100, Training Loss: 1.731536979858692\n",
      "Epoch 79/100, Training Loss: 1.74085094837042\n",
      "Epoch 80/100, Training Loss: 1.7340403917508247\n",
      "Epoch 81/100, Training Loss: 1.7338151175242205\n",
      "Epoch 82/100, Training Loss: 1.7494521286243048\n",
      "Epoch 83/100, Training Loss: 1.735218318609091\n",
      "Epoch 84/100, Training Loss: 1.734557249607184\n",
      "Epoch 85/100, Training Loss: 1.733676214248706\n",
      "Epoch 86/100, Training Loss: 1.7288992259746943\n",
      "Epoch 87/100, Training Loss: 1.7339335328493364\n",
      "Epoch 88/100, Training Loss: 1.7358489540907054\n",
      "Epoch 89/100, Training Loss: 1.7384575704733531\n",
      "Epoch 90/100, Training Loss: 1.7290561871650891\n",
      "Epoch 91/100, Training Loss: 1.7428589860598247\n",
      "Epoch 92/100, Training Loss: 1.7366026930319958\n",
      "Epoch 93/100, Training Loss: 1.7329493638796685\n",
      "Epoch 94/100, Training Loss: 1.7330212654211583\n",
      "Epoch 95/100, Training Loss: 1.7417039290452614\n",
      "Epoch 96/100, Training Loss: 1.7376666420545333\n",
      "Epoch 97/100, Training Loss: 1.7300338378319373\n",
      "Epoch 98/100, Training Loss: 1.7413792808850606\n",
      "Epoch 99/100, Training Loss: 1.732719858487447\n",
      "Epoch 100/100, Training Loss: 1.7332740257947872\n"
     ]
    }
   ],
   "source": [
    "features_dim=np.array(x).shape[2]\n",
    "modelRNN=RNN.RNN_Model(features_dim,hidden_num,output_dim).to(device)\n",
    "optimizerRNN= optim.Adam(modelRNN.parameters(), lr=learning_rate)\n",
    "# resultRNN,lossRNN,modelRNN,Averageresults=loop(modelRNN,train_loader,test_loader,optimizerRNN,criterion,device,E=epoch)\n",
    "resultRNN, val_metrics_rnn, modelRNN = loop(modelRNN, train_loader, val_loader, optimizerRNN, criterion, device, E=epoch)\n"
   ]
  },
  {
   "cell_type": "code",
   "execution_count": 26,
   "metadata": {},
   "outputs": [
    {
     "name": "stdout",
     "output_type": "stream",
     "text": [
      "Epoch 1/100, Training Loss: 12.118363649417192\n",
      "Epoch 2/100, Training Loss: 12.085392438448393\n",
      "Epoch 3/100, Training Loss: 12.041716820154434\n",
      "Epoch 4/100, Training Loss: 12.033985663682987\n",
      "Epoch 5/100, Training Loss: 11.964366154792982\n",
      "Epoch 6/100, Training Loss: 11.905510633419722\n",
      "Epoch 7/100, Training Loss: 11.84297166726528\n",
      "Epoch 8/100, Training Loss: 11.778992848518568\n",
      "Epoch 9/100, Training Loss: 11.726467890617174\n",
      "Epoch 10/100, Training Loss: 11.66138397118984\n",
      "Epoch 11/100, Training Loss: 11.569963186215132\n",
      "Epoch 12/100, Training Loss: 11.517896260970678\n",
      "Epoch 13/100, Training Loss: 11.390362152686485\n",
      "Epoch 14/100, Training Loss: 11.327799063462477\n",
      "Epoch 15/100, Training Loss: 11.216202051211626\n",
      "Epoch 16/100, Training Loss: 11.099578625116592\n",
      "Epoch 17/100, Training Loss: 10.988126045618301\n",
      "Epoch 18/100, Training Loss: 10.82227373123169\n",
      "Epoch 19/100, Training Loss: 10.573548206916222\n",
      "Epoch 20/100, Training Loss: 10.297984832372421\n",
      "Epoch 21/100, Training Loss: 9.729679645636143\n",
      "Epoch 22/100, Training Loss: 7.592003009258172\n",
      "Epoch 23/100, Training Loss: 2.953799632115242\n",
      "Epoch 24/100, Training Loss: 2.244305453239343\n",
      "Epoch 25/100, Training Loss: 2.031617474097472\n",
      "Epoch 26/100, Training Loss: 1.8975176696593945\n",
      "Epoch 27/100, Training Loss: 1.8382985026408465\n",
      "Epoch 28/100, Training Loss: 1.7885580276831603\n",
      "Epoch 29/100, Training Loss: 1.7757495366610014\n",
      "Epoch 30/100, Training Loss: 1.7506076647685125\n",
      "Epoch 31/100, Training Loss: 1.7496619683045607\n",
      "Epoch 32/100, Training Loss: 1.7434729345333881\n",
      "Epoch 33/100, Training Loss: 1.7405985868894136\n",
      "Epoch 34/100, Training Loss: 1.744844519175016\n",
      "Epoch 35/100, Training Loss: 1.738633895531679\n",
      "Epoch 36/100, Training Loss: 1.736928206223708\n",
      "Epoch 37/100, Training Loss: 1.738727629948885\n",
      "Epoch 38/100, Training Loss: 1.7416954873464046\n",
      "Epoch 39/100, Training Loss: 1.7307858207286932\n",
      "Epoch 40/100, Training Loss: 1.7423736132108247\n",
      "Epoch 41/100, Training Loss: 1.7339966327716143\n",
      "Epoch 42/100, Training Loss: 1.7346153473242736\n",
      "Epoch 43/100, Training Loss: 1.7395553191502888\n",
      "Epoch 44/100, Training Loss: 1.7369926082782257\n",
      "Epoch 45/100, Training Loss: 1.7322360674540203\n",
      "Epoch 46/100, Training Loss: 1.737717567346035\n",
      "Epoch 47/100, Training Loss: 1.7363872069578905\n",
      "Epoch 48/100, Training Loss: 1.7356099516917498\n",
      "Epoch 49/100, Training Loss: 1.7354406989537752\n",
      "Epoch 50/100, Training Loss: 1.733212867608437\n",
      "Epoch 51/100, Training Loss: 1.7341849972040226\n",
      "Epoch 52/100, Training Loss: 1.7502340758458161\n",
      "Epoch 53/100, Training Loss: 1.7414178741283906\n",
      "Epoch 54/100, Training Loss: 1.7386880975503187\n",
      "Epoch 55/100, Training Loss: 1.7342315789980767\n",
      "Epoch 56/100, Training Loss: 1.7380809080906403\n",
      "Epoch 57/100, Training Loss: 1.7439426489365406\n",
      "Epoch 58/100, Training Loss: 1.7291074662636488\n",
      "Epoch 59/100, Training Loss: 1.7335076897572248\n",
      "Epoch 60/100, Training Loss: 1.7336861032706041\n",
      "Epoch 61/100, Training Loss: 1.7321924964586894\n",
      "Epoch 62/100, Training Loss: 1.7369030163838313\n",
      "Epoch 63/100, Training Loss: 1.7414395870306554\n",
      "Epoch 64/100, Training Loss: 1.7310607509735303\n",
      "Epoch 65/100, Training Loss: 1.7288815142252507\n",
      "Epoch 66/100, Training Loss: 1.730498540095794\n",
      "Epoch 67/100, Training Loss: 1.741611000819084\n",
      "Epoch 68/100, Training Loss: 1.7337451363221192\n",
      "Epoch 69/100, Training Loss: 1.7370762442931151\n",
      "Epoch 70/100, Training Loss: 1.7650542985170314\n",
      "Epoch 71/100, Training Loss: 1.7460768895271497\n",
      "Epoch 72/100, Training Loss: 1.7309487874691303\n",
      "Epoch 73/100, Training Loss: 1.7300343406506073\n",
      "Epoch 74/100, Training Loss: 1.7323352281863873\n",
      "Epoch 75/100, Training Loss: 1.7403817130969121\n",
      "Epoch 76/100, Training Loss: 1.7327544765594678\n",
      "Epoch 77/100, Training Loss: 1.7342298481708918\n",
      "Epoch 78/100, Training Loss: 1.7335051940037653\n",
      "Epoch 79/100, Training Loss: 1.7346374973272667\n",
      "Epoch 80/100, Training Loss: 1.7404301151251182\n",
      "Epoch 81/100, Training Loss: 1.738764580243673\n",
      "Epoch 82/100, Training Loss: 1.730344566015097\n",
      "Epoch 83/100, Training Loss: 1.7370905173130524\n",
      "Epoch 84/100, Training Loss: 1.7373962494043202\n",
      "Epoch 85/100, Training Loss: 1.7309522048020973\n",
      "Epoch 86/100, Training Loss: 1.7439107298851013\n",
      "Epoch 87/100, Training Loss: 1.7297403476177118\n",
      "Epoch 88/100, Training Loss: 1.7433810539734669\n",
      "Epoch 89/100, Training Loss: 1.7365570733180413\n",
      "Epoch 90/100, Training Loss: 1.738836753062713\n",
      "Epoch 91/100, Training Loss: 1.7707272569338481\n",
      "Epoch 92/100, Training Loss: 1.7504945611342406\n",
      "Epoch 93/100, Training Loss: 1.7356191185804515\n",
      "Epoch 94/100, Training Loss: 1.7427944816075838\n",
      "Epoch 95/100, Training Loss: 1.737605550350287\n",
      "Epoch 96/100, Training Loss: 1.733252723247577\n",
      "Epoch 97/100, Training Loss: 1.73510698783092\n",
      "Epoch 98/100, Training Loss: 1.7445016854848616\n",
      "Epoch 99/100, Training Loss: 1.7304474016030629\n",
      "Epoch 100/100, Training Loss: 1.7579995638284929\n"
     ]
    }
   ],
   "source": [
    "features_dim=np.array(x).shape[2]\n",
    "modelLSTM=LSTM.LSTM_Model(features_dim,hidden_num,output_dim).to(device)\n",
    "optimizerLSTM= optim.Adam(modelLSTM.parameters(), lr=learning_rate)\n",
    "# resultRNN,lossRNN,modelRNN,Averageresults=loop(modelRNN,train_loader,test_loader,optimizerRNN,criterion,device,E=epoch)\n",
    "resultLSTM, val_metrics_lstm, modelLSTM = loop(modelLSTM, train_loader, val_loader, optimizerLSTM, criterion, device, E=epoch)"
   ]
  },
  {
   "cell_type": "code",
   "execution_count": 27,
   "metadata": {},
   "outputs": [
    {
     "name": "stdout",
     "output_type": "stream",
     "text": [
      "Epoch 1/100, Training Loss: 12.867573738098145\n",
      "Epoch 2/100, Training Loss: 12.801953389094425\n",
      "Epoch 3/100, Training Loss: 12.72534861931434\n",
      "Epoch 4/100, Training Loss: 12.679443444961157\n",
      "Epoch 5/100, Training Loss: 12.57883312763312\n",
      "Epoch 6/100, Training Loss: 12.451831658681234\n",
      "Epoch 7/100, Training Loss: 12.41456133280045\n",
      "Epoch 8/100, Training Loss: 12.353787189874893\n",
      "Epoch 9/100, Training Loss: 12.267374833424887\n",
      "Epoch 10/100, Training Loss: 12.176246031736715\n",
      "Epoch 11/100, Training Loss: 12.082643019847382\n",
      "Epoch 12/100, Training Loss: 11.93722580640744\n",
      "Epoch 13/100, Training Loss: 11.865860339922783\n",
      "Epoch 14/100, Training Loss: 11.760026063674536\n",
      "Epoch 15/100, Training Loss: 11.698355686970245\n",
      "Epoch 16/100, Training Loss: 11.556681718581762\n",
      "Epoch 17/100, Training Loss: 11.400932360918095\n",
      "Epoch 18/100, Training Loss: 11.242609879909418\n",
      "Epoch 19/100, Training Loss: 11.122139478341127\n",
      "Epoch 20/100, Training Loss: 10.905104832771498\n",
      "Epoch 21/100, Training Loss: 10.734991440406212\n",
      "Epoch 22/100, Training Loss: 10.485508674230331\n",
      "Epoch 23/100, Training Loss: 10.187946209540733\n",
      "Epoch 24/100, Training Loss: 9.867320011823605\n",
      "Epoch 25/100, Training Loss: 9.340992487393892\n",
      "Epoch 26/100, Training Loss: 8.665940834925724\n",
      "Epoch 27/100, Training Loss: 7.285343188505906\n",
      "Epoch 28/100, Training Loss: 4.646138347112215\n",
      "Epoch 29/100, Training Loss: 2.6633308636836515\n",
      "Epoch 30/100, Training Loss: 2.1422074337800345\n",
      "Epoch 31/100, Training Loss: 1.944612009403033\n",
      "Epoch 32/100, Training Loss: 1.8494745798600025\n",
      "Epoch 33/100, Training Loss: 1.795472502708435\n",
      "Epoch 34/100, Training Loss: 1.7676977943151424\n",
      "Epoch 35/100, Training Loss: 1.754876313301233\n",
      "Epoch 36/100, Training Loss: 1.7471397244013274\n",
      "Epoch 37/100, Training Loss: 1.7450830202836256\n",
      "Epoch 38/100, Training Loss: 1.7485713011179216\n",
      "Epoch 39/100, Training Loss: 1.7410576695050948\n",
      "Epoch 40/100, Training Loss: 1.7335905600816777\n",
      "Epoch 41/100, Training Loss: 1.7363392129922524\n",
      "Epoch 42/100, Training Loss: 1.732753839248266\n",
      "Epoch 43/100, Training Loss: 1.7373929451673458\n",
      "Epoch 44/100, Training Loss: 1.7474885949721704\n",
      "Epoch 45/100, Training Loss: 1.7381946643193562\n",
      "Epoch 46/100, Training Loss: 1.7431885172159245\n",
      "Epoch 47/100, Training Loss: 1.7312717070946326\n",
      "Epoch 48/100, Training Loss: 1.7364504895149133\n",
      "Epoch 49/100, Training Loss: 1.7420796087154975\n",
      "Epoch 50/100, Training Loss: 1.7737533694658525\n",
      "Epoch 51/100, Training Loss: 1.7333643360015674\n",
      "Epoch 52/100, Training Loss: 1.7429433113489397\n",
      "Epoch 53/100, Training Loss: 1.7348297666280696\n",
      "Epoch 54/100, Training Loss: 1.7346493739348192\n",
      "Epoch 55/100, Training Loss: 1.7444792985916138\n",
      "Epoch 56/100, Training Loss: 1.7352146552159236\n",
      "Epoch 57/100, Training Loss: 1.7381076384813359\n",
      "Epoch 58/100, Training Loss: 1.7342497400748424\n",
      "Epoch 59/100, Training Loss: 1.7307182856095142\n",
      "Epoch 60/100, Training Loss: 1.7349262604346642\n",
      "Epoch 61/100, Training Loss: 1.735755022519674\n",
      "Epoch 62/100, Training Loss: 1.7329241381241725\n",
      "Epoch 63/100, Training Loss: 1.731040046765254\n",
      "Epoch 64/100, Training Loss: 1.7481137284865746\n",
      "Epoch 65/100, Training Loss: 1.7403393785158794\n",
      "Epoch 66/100, Training Loss: 1.732335857855968\n",
      "Epoch 67/100, Training Loss: 1.7426285988245256\n",
      "Epoch 68/100, Training Loss: 1.7406958418014722\n",
      "Epoch 69/100, Training Loss: 1.744561465886923\n",
      "Epoch 70/100, Training Loss: 1.7366001300322704\n",
      "Epoch 71/100, Training Loss: 1.731705713730592\n",
      "Epoch 72/100, Training Loss: 1.7331555118927588\n",
      "Epoch 73/100, Training Loss: 1.7423323438717768\n",
      "Epoch 74/100, Training Loss: 1.734177067493781\n",
      "Epoch 75/100, Training Loss: 1.734757431806662\n",
      "Epoch 76/100, Training Loss: 1.733677978699024\n",
      "Epoch 77/100, Training Loss: 1.7382813569826958\n",
      "Epoch 78/100, Training Loss: 1.7299525982294328\n",
      "Epoch 79/100, Training Loss: 1.7351132264504066\n",
      "Epoch 80/100, Training Loss: 1.7310285400121639\n",
      "Epoch 81/100, Training Loss: 1.7372138821161711\n",
      "Epoch 82/100, Training Loss: 1.742552896340688\n",
      "Epoch 83/100, Training Loss: 1.7458516695560553\n",
      "Epoch 84/100, Training Loss: 1.7481893740403347\n",
      "Epoch 85/100, Training Loss: 1.7647208785399413\n",
      "Epoch 86/100, Training Loss: 1.7351640050227826\n",
      "Epoch 87/100, Training Loss: 1.7325856731488154\n",
      "Epoch 88/100, Training Loss: 1.7358837647315783\n",
      "Epoch 89/100, Training Loss: 1.735392457399613\n",
      "Epoch 90/100, Training Loss: 1.7355360923669276\n",
      "Epoch 91/100, Training Loss: 1.739335949604328\n",
      "Epoch 92/100, Training Loss: 1.7295165138366895\n",
      "Epoch 93/100, Training Loss: 1.731637451129082\n",
      "Epoch 94/100, Training Loss: 1.739359391041291\n",
      "Epoch 95/100, Training Loss: 1.735398347561176\n",
      "Epoch 96/100, Training Loss: 1.736365706492693\n",
      "Epoch 97/100, Training Loss: 1.762858476394262\n",
      "Epoch 98/100, Training Loss: 1.7454669383855967\n",
      "Epoch 99/100, Training Loss: 1.7654685912988124\n",
      "Epoch 100/100, Training Loss: 1.7341020901997883\n"
     ]
    }
   ],
   "source": [
    "features_dim=np.array(x).shape[2]\n",
    "modelGRU=GRU.GRU_Model(features_dim,hidden_num,output_dim).to(device)\n",
    "optimizerGRU= optim.Adam(modelGRU.parameters(), lr=learning_rate)\n",
    "# resultRNN,lossRNN,modelRNN,Averageresults=loop(modelRNN,train_loader,test_loader,optimizerRNN,criterion,device,E=epoch)\n",
    "resultGRU, val_metrics_gru, modelGRU = loop(modelGRU, train_loader, val_loader, optimizerGRU, criterion, device, E=epoch)"
   ]
  },
  {
   "cell_type": "code",
   "execution_count": 28,
   "metadata": {},
   "outputs": [
    {
     "name": "stdout",
     "output_type": "stream",
     "text": [
      "<class 'list'> <class 'float'>\n",
      "<class 'list'> <class 'float'>\n",
      "<class 'list'> <class 'float'>\n",
      "12.316653814071264\n"
     ]
    }
   ],
   "source": [
    "print(type(resultRNN), type(resultRNN[0]))\n",
    "print(type(resultLSTM), type(resultLSTM[0]))\n",
    "print(type(resultGRU), type(resultGRU[0]))\n",
    "print(resultRNN[0])  "
   ]
  },
  {
   "cell_type": "code",
   "execution_count": 29,
   "metadata": {},
   "outputs": [
    {
     "data": {
      "image/png": "[encoded data removed]",
      "text/plain": [
       "<Figure size 1000x600 with 1 Axes>"
      ]
     },
     "metadata": {},
     "output_type": "display_data"
    }
   ],
   "source": [
    "training_loss_RNN = resultRNN\n",
    "training_loss_LSTM = resultLSTM\n",
    "training_loss_GRU = resultGRU\n",
    "\n",
    "plt.figure(figsize=(10, 6))\n",
    "sns.lineplot(x=range(1, len(training_loss_RNN) + 1), y=training_loss_RNN, label='RNN', marker='o', linewidth=2.5)\n",
    "sns.lineplot(x=range(1, len(training_loss_LSTM) + 1), y=training_loss_LSTM, label='LSTM', marker='s', linewidth=2.5)\n",
    "sns.lineplot(x=range(1, len(training_loss_GRU) + 1), y=training_loss_GRU, label='GRU', marker='^', linewidth=2.5)\n",
    "\n",
    "plt.title('Training Loss over Epochs for RNN, LSTM, and GRU')\n",
    "plt.xlabel('Epoch')\n",
    "plt.ylabel('Training Loss')\n",
    "plt.legend()\n",
    "plt.show()"
   ]
  },
  {
   "cell_type": "code",
   "execution_count": 32,
   "metadata": {},
   "outputs": [
    {
     "name": "stdout",
     "output_type": "stream",
     "text": [
      "  Model  Validation Loss             MAE             MAPE              R^2  \\\n",
      "0   RNN         2.160973  tensor(1.1518)  tensor(35.1261)  tensor(-8.7625)   \n",
      "1  LSTM         2.157257  tensor(1.1529)  tensor(35.2852)  tensor(-7.3231)   \n",
      "2   GRU         2.136253  tensor(1.1551)  tensor(35.8311)  tensor(-8.5611)   \n",
      "\n",
      "         IC   Rank IC  \n",
      "0  0.110413  0.130107  \n",
      "1 -0.087110 -0.152910  \n",
      "2  0.060404  0.006953  \n"
     ]
    }
   ],
   "source": [
    "def find_best_epoch(metrics):\n",
    "    best_index = min(range(len(metrics)), key=lambda i: metrics[i][0])  \n",
    "    return metrics[best_index]\n",
    "\n",
    "\n",
    "best_epoch_rnn = find_best_epoch(val_metrics_rnn)\n",
    "best_epoch_lstm = find_best_epoch(val_metrics_lstm)\n",
    "best_epoch_gru = find_best_epoch(val_metrics_gru)\n",
    "\n",
    "metrics_df = pd.DataFrame({\n",
    "    'Model': ['RNN', 'LSTM', 'GRU'],\n",
    "    'Validation Loss': [best_epoch_rnn[0], best_epoch_lstm[0], best_epoch_gru[0]],\n",
    "    'MAE': [best_epoch_rnn[1], best_epoch_lstm[1], best_epoch_gru[1]],\n",
    "    'MAPE': [best_epoch_rnn[2], best_epoch_lstm[2], best_epoch_gru[2]],\n",
    "    'R^2': [best_epoch_rnn[3], best_epoch_lstm[3], best_epoch_gru[3]],\n",
    "    'IC': [best_epoch_rnn[4], best_epoch_lstm[4], best_epoch_gru[4]],\n",
    "    'Rank IC': [best_epoch_rnn[5], best_epoch_lstm[5], best_epoch_gru[5]]\n",
    "})\n",
    "\n",
    "print(metrics_df)"
   ]
  }
 ],
 "metadata": {
  "kernelspec": {
   "display_name": "base",
   "language": "python",
   "name": "python3"
  },
  "language_info": {
   "codemirror_mode": {
    "name": "ipython",
    "version": 3
   },
   "file_extension": ".py",
   "mimetype": "text/x-python",
   "name": "python",
   "nbconvert_exporter": "python",
   "pygments_lexer": "ipython3",
   "version": "3.12.3"
  }
 },
 "nbformat": 4,
 "nbformat_minor": 2
}
