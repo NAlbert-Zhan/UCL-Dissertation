{
 "cells": [
  {
   "cell_type": "code",
   "execution_count": 1,
   "metadata": {},
   "outputs": [
    {
     "name": "stderr",
     "output_type": "stream",
     "text": [
      "c:\\Users\\lenovo\\miniconda3\\Lib\\site-packages\\tqdm\\auto.py:21: TqdmWarning: IProgress not found. Please update jupyter and ipywidgets. See https://ipywidgets.readthedocs.io/en/stable/user_install.html\n",
      "  from .autonotebook import tqdm as notebook_tqdm\n"
     ]
    }
   ],
   "source": [
    "import glob\n",
    "import pandas as pd\n",
    "import os\n",
    "from transformers import BertTokenizer, BertForSequenceClassification\n",
    "import torch\n",
    "import torch.nn.functional as F\n",
    "import concurrent.futures"
   ]
  },
  {
   "cell_type": "code",
   "execution_count": 2,
   "metadata": {},
   "outputs": [],
   "source": [
    "# Specify the folder path\n",
    "folder_path = 'C:/Users/lenovo/Desktop/UCL/Final dissertation/code/filtered data'\n",
    "# Use glob to get all .csv files in the folder\n",
    "csv_files = glob.glob(os.path.join(folder_path, '*.csv'))"
   ]
  },
  {
   "cell_type": "code",
   "execution_count": 3,
   "metadata": {},
   "outputs": [],
   "source": [
    "def split_long_sentence(sentence, tokenizer, max_length=512):\n",
    "    tokens = tokenizer.tokenize(sentence)\n",
    "    if len(tokens) <= max_length:\n",
    "        return [sentence]\n",
    "    \n",
    "    chunks = []\n",
    "    for i in range(0, len(tokens), max_length):\n",
    "        chunk_tokens = tokens[i:i + max_length]\n",
    "        chunk_sentence = tokenizer.convert_tokens_to_string(chunk_tokens)\n",
    "        chunks.append(chunk_sentence)\n",
    "    \n",
    "    return chunks"
   ]
  },
  {
   "cell_type": "code",
   "execution_count": 4,
   "metadata": {},
   "outputs": [],
   "source": [
    "def loadFinbertESG(df, tokenizer, model, labels, device, batch_size=8):\n",
    "    all_sen = []\n",
    "    for i, row in df.iterrows():\n",
    "        sen = row['Sentences']\n",
    "        all_sen.extend(split_long_sentence(sen, tokenizer, 512))\n",
    "    \n",
    "    results_list = []\n",
    "    for i in range(0, len(all_sen), batch_size):\n",
    "        batch = all_sen[i:i + batch_size]\n",
    "        inputs = tokenizer(batch, return_tensors='pt', truncation=True, max_length=512, padding='max_length')\n",
    "        inputs = {key: val.to(device) for key, val in inputs.items()}\n",
    "        with torch.no_grad():\n",
    "            outputs = model(**inputs)\n",
    "            probs = F.softmax(outputs.logits, dim=-1)\n",
    "        results_list.append(probs.cpu())  # Move results back to CPU to save GPU memory\n",
    "\n",
    "    all_probs = torch.cat(results_list, dim=0)\n",
    "\n",
    "    idx = 0\n",
    "    for i, row in df.iterrows():\n",
    "        sen_len = len(split_long_sentence(row['Sentences'], tokenizer, 512))\n",
    "        avg_probs = torch.mean(all_probs[idx:idx + sen_len], dim=0)\n",
    "        results = {label: prob.item() for label, prob in zip(labels, avg_probs)}\n",
    "        df.loc[i, 'Env'] = results['Environmental']\n",
    "        df.loc[i, 'Soc'] = results['Social']\n",
    "        df.loc[i, 'Gov'] = results['Governance']\n",
    "        df.loc[i, 'None'] = results['None']\n",
    "        idx += sen_len\n",
    "    return df"
   ]
  },
  {
   "cell_type": "code",
   "execution_count": 5,
   "metadata": {},
   "outputs": [],
   "source": [
    "def process_file(file, tokenizer, model, labels, device):\n",
    "    df = pd.read_csv(file)\n",
    "    df = df.rename(columns={'0': 'Sentences'})\n",
    "    if len(df) > 10:\n",
    "        df = loadFinbertESG(df, tokenizer, model, labels, device)\n",
    "        processed_file_path = os.path.join(folder_path, os.path.basename(file))\n",
    "        df.to_csv(processed_file_path, index=False)"
   ]
  },
  {
   "cell_type": "code",
   "execution_count": 6,
   "metadata": {},
   "outputs": [
    {
     "name": "stderr",
     "output_type": "stream",
     "text": [
      "c:\\Users\\lenovo\\miniconda3\\Lib\\site-packages\\transformers\\models\\bert\\modeling_bert.py:435: UserWarning: 1Torch was not compiled with flash attention. (Triggered internally at ..\\aten\\src\\ATen\\native\\transformers\\cuda\\sdp_utils.cpp:455.)\n",
      "  attn_output = torch.nn.functional.scaled_dot_product_attention(\n"
     ]
    }
   ],
   "source": [
    "def main():\n",
    "    device = torch.device('cuda' if torch.cuda.is_available() else 'cpu')\n",
    "    finbert = BertForSequenceClassification.from_pretrained('yiyanghkust/finbert-esg', num_labels=4)\n",
    "    finbert.to(device)\n",
    "    tokenizer = BertTokenizer.from_pretrained('yiyanghkust/finbert-esg')\n",
    "    labels = ['None', 'Environmental', 'Social', 'Governance']\n",
    "\n",
    "    with concurrent.futures.ThreadPoolExecutor(max_workers=4) as executor:\n",
    "        futures = [executor.submit(process_file, file, tokenizer, finbert, labels, device) for file in csv_files]\n",
    "        for future in concurrent.futures.as_completed(futures):\n",
    "            try:\n",
    "                future.result()\n",
    "            except Exception as e:\n",
    "                print(f\"An error occurred: {e}\")\n",
    "\n",
    "if __name__ == \"__main__\":\n",
    "    main()"
   ]
  }
 ],
 "metadata": {
  "kernelspec": {
   "display_name": "base",
   "language": "python",
   "name": "python3"
  },
  "language_info": {
   "codemirror_mode": {
    "name": "ipython",
    "version": 3
   },
   "file_extension": ".py",
   "mimetype": "text/x-python",
   "name": "python",
   "nbconvert_exporter": "python",
   "pygments_lexer": "ipython3",
   "version": "3.12.3"
  }
 },
 "nbformat": 4,
 "nbformat_minor": 2
}
