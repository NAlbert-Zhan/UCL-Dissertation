{
 "cells": [
  {
   "cell_type": "code",
   "execution_count": 1,
   "metadata": {},
   "outputs": [
    {
     "name": "stderr",
     "output_type": "stream",
     "text": [
      "c:\\Users\\lenovo\\miniconda3\\Lib\\site-packages\\tqdm\\auto.py:21: TqdmWarning: IProgress not found. Please update jupyter and ipywidgets. See https://ipywidgets.readthedocs.io/en/stable/user_install.html\n",
      "  from .autonotebook import tqdm as notebook_tqdm\n"
     ]
    }
   ],
   "source": [
    "import glob\n",
    "import pandas as pd\n",
    "import os\n",
    "# tested in transformers==4.18.0 \n",
    "from transformers import BertTokenizer, BertForSequenceClassification, pipeline\n",
    "import torch\n",
    "import torch.nn.functional as F\n",
    "import concurrent.futures\n",
    "import multiprocessing as mp\n",
    "import threading"
   ]
  },
  {
   "cell_type": "code",
   "execution_count": 2,
   "metadata": {},
   "outputs": [
    {
     "name": "stdout",
     "output_type": "stream",
     "text": [
      "20\n"
     ]
    }
   ],
   "source": [
    "print(mp.cpu_count())"
   ]
  },
  {
   "cell_type": "code",
   "execution_count": 3,
   "metadata": {},
   "outputs": [],
   "source": [
    "# Specify the folder path\n",
    "folder_path = 'C:/Users/lenovo/Desktop/UCL/Final dissertation/code/filtered data'\n",
    "# Use glob to get all .csv files in the folder\n",
    "csv_files = glob.glob(os.path.join(folder_path, '*.csv'))"
   ]
  },
  {
   "cell_type": "code",
   "execution_count": 4,
   "metadata": {},
   "outputs": [],
   "source": [
    "def split_long_sentence(sentence, tokenizer, max_length=512):\n",
    "    tokens = tokenizer.tokenize(sentence)\n",
    "    if len(tokens) <= max_length:\n",
    "        return [sentence]\n",
    "    \n",
    "    # Split the tokens into chunks\n",
    "    chunks = []\n",
    "    for i in range(0, len(tokens), max_length):\n",
    "        chunk_tokens = tokens[i:i + max_length]\n",
    "        chunk_sentence = tokenizer.convert_tokens_to_string(chunk_tokens)\n",
    "        chunks.append(chunk_sentence)\n",
    "        print(\"Run Chunk tokens process\")\n",
    "    \n",
    "    return chunks"
   ]
  },
  {
   "cell_type": "code",
   "execution_count": 5,
   "metadata": {},
   "outputs": [],
   "source": [
    "# Load the pre-trained model and tokenizer\n",
    "finbert = BertForSequenceClassification.from_pretrained('yiyanghkust/finbert-esg',num_labels=4)\n",
    "tokenizer = BertTokenizer.from_pretrained('yiyanghkust/finbert-esg')\n",
    "labels = ['None', 'Environmental', 'Social', 'Governance']"
   ]
  },
  {
   "cell_type": "code",
   "execution_count": 6,
   "metadata": {},
   "outputs": [],
   "source": [
    "def loadFinbertESG (df:pd):\n",
    "    for i,row in df.iterrows():\n",
    "        sen = row['Sentences']\n",
    "        sen = split_long_sentence(sen, tokenizer, 512)\n",
    "        inputs = tokenizer(sen, return_tensors='pt',truncation=True, max_length=512, padding='max_length')\n",
    "        outputs = finbert(**inputs)\n",
    "        probs = F.softmax(outputs.logits, dim=-1)\n",
    "        results = {label: prob.item() for label, prob in zip(labels, probs[0])}\n",
    "        df.loc[i,'Env'] = results['Environmental']\n",
    "        df.loc[i,'Soc'] = results['Social']\n",
    "        df.loc[i,'Gov'] = results['Governance']\n",
    "        df.loc[i,'None'] = results['None']\n",
    "        #print(f'{i}+:::{results}')\n",
    "    return df\n"
   ]
  },
  {
   "cell_type": "code",
   "execution_count": 7,
   "metadata": {},
   "outputs": [],
   "source": [
    "def process_file(file):\n",
    "    df = pd.read_csv(file)\n",
    "    df = df.rename(columns={'0': 'Sentences'})\n",
    "    if len(df) > 10:\n",
    "        # print(f\"{file}: {len(df)}\")\n",
    "        loadFinbertESG(df)\n",
    "        processed_file_path = os.path.join(folder_path, os.path.basename(file))\n",
    "        df.to_csv(processed_file_path, index=False)"
   ]
  },
  {
   "cell_type": "code",
   "execution_count": 8,
   "metadata": {},
   "outputs": [],
   "source": [
    "# Run multi threading to boost the speed with NLP with 30%\n",
    "with concurrent.futures.ThreadPoolExecutor(max_workers=4) as executor:\n",
    "    futures = [executor.submit(process_file, file) for file in csv_files]\n",
    "    for future in concurrent.futures.as_completed(futures):\n",
    "        try:\n",
    "            future.result()\n",
    "        except Exception as e:\n",
    "            print(f\"An error occurred: {e}\")"
   ]
  }
 ],
 "metadata": {
  "kernelspec": {
   "display_name": "base",
   "language": "python",
   "name": "python3"
  },
  "language_info": {
   "codemirror_mode": {
    "name": "ipython",
    "version": 3
   },
   "file_extension": ".py",
   "mimetype": "text/x-python",
   "name": "python",
   "nbconvert_exporter": "python",
   "pygments_lexer": "ipython3",
   "version": "3.12.3"
  }
 },
 "nbformat": 4,
 "nbformat_minor": 2
}
